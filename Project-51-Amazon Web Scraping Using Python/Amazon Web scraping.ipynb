{
 "cells": [
  {
   "cell_type": "markdown",
   "id": "ba17edef",
   "metadata": {},
   "source": [
    "#                                        Amazon Web Scraping "
   ]
  },
  {
   "cell_type": "markdown",
   "id": "ef2c92fc",
   "metadata": {},
   "source": [
    "### Import important Libraries"
   ]
  },
  {
   "cell_type": "code",
   "execution_count": 2,
   "id": "8fa924c0",
   "metadata": {},
   "outputs": [],
   "source": [
    "import pandas as pd\n",
    "import requests\n",
    "from bs4 import BeautifulSoup\n",
    "from selenium import webdriver\n",
    "import numpy as np\n",
    "import pandas as pd"
   ]
  },
  {
   "cell_type": "markdown",
   "id": "144b7d50",
   "metadata": {},
   "source": [
    "###### Our main aim is to use the webdriver and get the chrome into it, for this we have to download webdriver-manager"
   ]
  },
  {
   "cell_type": "code",
   "execution_count": 67,
   "id": "200d2431",
   "metadata": {},
   "outputs": [
    {
     "name": "stdout",
     "output_type": "stream",
     "text": [
      "Collecting webdriver-manager\n",
      "  Downloading webdriver_manager-3.8.3-py2.py3-none-any.whl (26 kB)\n",
      "Requirement already satisfied: requests in c:\\users\\ritwik ganguly\\anaconda3\\envs\\ritwik_data_sci\\lib\\site-packages (from webdriver-manager) (2.27.1)\n",
      "Requirement already satisfied: tqdm in c:\\users\\ritwik ganguly\\anaconda3\\envs\\ritwik_data_sci\\lib\\site-packages (from webdriver-manager) (4.62.3)\n",
      "Collecting python-dotenv\n",
      "  Downloading python_dotenv-0.21.0-py3-none-any.whl (18 kB)\n",
      "Requirement already satisfied: charset-normalizer~=2.0.0 in c:\\users\\ritwik ganguly\\anaconda3\\envs\\ritwik_data_sci\\lib\\site-packages (from requests->webdriver-manager) (2.0.4)\n",
      "Requirement already satisfied: certifi>=2017.4.17 in c:\\users\\ritwik ganguly\\anaconda3\\envs\\ritwik_data_sci\\lib\\site-packages (from requests->webdriver-manager) (2022.6.15)\n",
      "Requirement already satisfied: urllib3<1.27,>=1.21.1 in c:\\users\\ritwik ganguly\\anaconda3\\envs\\ritwik_data_sci\\lib\\site-packages (from requests->webdriver-manager) (1.26.7)\n",
      "Requirement already satisfied: idna<4,>=2.5 in c:\\users\\ritwik ganguly\\anaconda3\\envs\\ritwik_data_sci\\lib\\site-packages (from requests->webdriver-manager) (3.3)\n",
      "Requirement already satisfied: colorama in c:\\users\\ritwik ganguly\\anaconda3\\envs\\ritwik_data_sci\\lib\\site-packages (from tqdm->webdriver-manager) (0.4.4)\n",
      "Installing collected packages: python-dotenv, webdriver-manager\n",
      "Successfully installed python-dotenv-0.21.0 webdriver-manager-3.8.3\n"
     ]
    }
   ],
   "source": [
    "!pip install webdriver-manager"
   ]
  },
  {
   "cell_type": "markdown",
   "id": "ba273d8d",
   "metadata": {},
   "source": [
    "### import webdriver of Chrome"
   ]
  },
  {
   "cell_type": "code",
   "execution_count": 3,
   "id": "03be303b",
   "metadata": {},
   "outputs": [
    {
     "name": "stderr",
     "output_type": "stream",
     "text": [
      "[WDM] - Downloading: 100%|█████████████████████████████████████████████████████████| 6.68M/6.68M [00:24<00:00, 291kB/s]\n"
     ]
    }
   ],
   "source": [
    "from selenium import webdriver\n",
    "from webdriver_manager.chrome import ChromeDriverManager\n",
    "\n",
    "driver = webdriver.Chrome(ChromeDriverManager().install())"
   ]
  },
  {
   "cell_type": "code",
   "execution_count": 4,
   "id": "857a2e5d",
   "metadata": {},
   "outputs": [],
   "source": [
    "url = \"https://www.amazon.com\""
   ]
  },
  {
   "cell_type": "code",
   "execution_count": 5,
   "id": "028a1bc3",
   "metadata": {},
   "outputs": [],
   "source": [
    "driver.get(url)"
   ]
  },
  {
   "cell_type": "markdown",
   "id": "5b3a9af9",
   "metadata": {},
   "source": [
    "### get the url"
   ]
  },
  {
   "cell_type": "code",
   "execution_count": 38,
   "id": "03493a3d",
   "metadata": {},
   "outputs": [],
   "source": [
    "def get_url(search):\n",
    "    temp = \"https://www.amazon.in/s?k=shoes+for+men&rh=n%3A1983518031&ref=nb_sb_noss\"\n",
    "    search = search.replace(' ', '*')\n",
    "    return temp.format(search)"
   ]
  },
  {
   "cell_type": "code",
   "execution_count": 39,
   "id": "fb81129d",
   "metadata": {},
   "outputs": [
    {
     "name": "stdout",
     "output_type": "stream",
     "text": [
      "https://www.amazon.in/s?k=shoes+for+men&rh=n%3A1983518031&ref=nb_sb_noss\n"
     ]
    }
   ],
   "source": [
    "url = get_url(\"alternate monitor\")\n",
    "print(url)"
   ]
  },
  {
   "cell_type": "code",
   "execution_count": 40,
   "id": "2742707c",
   "metadata": {},
   "outputs": [],
   "source": [
    "driver.get(url)"
   ]
  },
  {
   "cell_type": "markdown",
   "id": "d1cfe007",
   "metadata": {},
   "source": [
    "### Extract the data"
   ]
  },
  {
   "cell_type": "code",
   "execution_count": 9,
   "id": "1e323e4a",
   "metadata": {},
   "outputs": [],
   "source": [
    "soup = BeautifulSoup(driver.page_source, \"html.parser\")"
   ]
  },
  {
   "cell_type": "code",
   "execution_count": 10,
   "id": "6286a251",
   "metadata": {},
   "outputs": [],
   "source": [
    "results = soup.find_all('div', {'data-component-type': 's-search-result'})"
   ]
  },
  {
   "cell_type": "code",
   "execution_count": 11,
   "id": "38f3ace8",
   "metadata": {},
   "outputs": [
    {
     "data": {
      "text/plain": [
       "60"
      ]
     },
     "execution_count": 11,
     "metadata": {},
     "output_type": "execute_result"
    }
   ],
   "source": [
    "len(results)"
   ]
  },
  {
   "cell_type": "markdown",
   "id": "e7532d4b",
   "metadata": {},
   "source": [
    "### get the record"
   ]
  },
  {
   "cell_type": "code",
   "execution_count": 12,
   "id": "01563d5c",
   "metadata": {},
   "outputs": [],
   "source": [
    "item = results[0]"
   ]
  },
  {
   "cell_type": "code",
   "execution_count": 13,
   "id": "c044a438",
   "metadata": {},
   "outputs": [],
   "source": [
    "atag = item.h2.a"
   ]
  },
  {
   "cell_type": "code",
   "execution_count": 14,
   "id": "51f25454",
   "metadata": {},
   "outputs": [],
   "source": [
    "final = atag.text.strip()"
   ]
  },
  {
   "cell_type": "code",
   "execution_count": 15,
   "id": "a8ad67c1",
   "metadata": {},
   "outputs": [
    {
     "data": {
      "text/plain": [
       "'https://www.amazon.com/sspa/click?ie=UTF8&spc=MTo0NjM2NzA1OTY0NTA2NDA3OjE2NjU0ODQzMzM6c3BfYXRmOjIwMDcyMzE5OTc2MjA3OjowOjo&sp_csd=d2lkZ2V0TmFtZT1zcF9hdGY&url=%2FASIAN-Mens-Cosco-Walking-Shoes%2Fdp%2FB07FRTXSJF%2Fref%3Dsr_1_1_sspa%3Fkeywords%3Dshoes%2Bfor%2Bmen%26qid%3D1665484332%26qu%3DeyJxc2MiOiIxMi41OSIsInFzYSI6IjEyLjY2IiwicXNwIjoiMTAuMzcifQ%253D%253D%26s%3Dshoes%26sr%3D1-1-spons%26psc%3D1'"
      ]
     },
     "execution_count": 15,
     "metadata": {},
     "output_type": "execute_result"
    }
   ],
   "source": [
    "url = \"https://www.amazon.com\" + atag.get(\"href\")\n",
    "url"
   ]
  },
  {
   "cell_type": "code",
   "execution_count": 16,
   "id": "b5fc93d2",
   "metadata": {},
   "outputs": [
    {
     "data": {
      "text/plain": [
       "'₹498'"
      ]
     },
     "execution_count": 16,
     "metadata": {},
     "output_type": "execute_result"
    }
   ],
   "source": [
    "item.find('span', 'a-offscreen').text"
   ]
  },
  {
   "cell_type": "code",
   "execution_count": 17,
   "id": "2c69df4a",
   "metadata": {},
   "outputs": [
    {
     "data": {
      "text/plain": [
       "<span class=\"a-offscreen\">₹498</span>"
      ]
     },
     "execution_count": 17,
     "metadata": {},
     "output_type": "execute_result"
    }
   ],
   "source": [
    "item.find('span', 'a-offscreen')"
   ]
  },
  {
   "cell_type": "markdown",
   "id": "f57bec67",
   "metadata": {},
   "source": [
    "### Store the data into a 1D list"
   ]
  },
  {
   "cell_type": "code",
   "execution_count": 18,
   "id": "564fa47a",
   "metadata": {},
   "outputs": [],
   "source": [
    "l = []\n",
    "x = 1\n",
    "\n",
    "for i in range (len(results)):\n",
    "    item = results[i]\n",
    "    atag = item.h2.a\n",
    "    name = atag.text.strip()\n",
    "    url = \"https://www.amazon.com\" + atag.get(\"href\")\n",
    "    price = item.find('span', 'a-offscreen').text\n",
    "    l.append(x)\n",
    "    l.append(name)\n",
    "    l.append(price)\n",
    "    l.append(url)\n",
    "    \n",
    "    x += 1"
   ]
  },
  {
   "cell_type": "markdown",
   "id": "d32de0d1",
   "metadata": {},
   "source": [
    "### Make the list into a 1D array"
   ]
  },
  {
   "cell_type": "code",
   "execution_count": 19,
   "id": "a06d3830",
   "metadata": {},
   "outputs": [
    {
     "data": {
      "text/plain": [
       "(240,)"
      ]
     },
     "execution_count": 19,
     "metadata": {},
     "output_type": "execute_result"
    }
   ],
   "source": [
    "arr = np.array(l)\n",
    "arr.shape"
   ]
  },
  {
   "cell_type": "markdown",
   "id": "6365a0c4",
   "metadata": {},
   "source": [
    "### Now make the 1D array into a 60*4 array as the number of column is 4"
   ]
  },
  {
   "cell_type": "code",
   "execution_count": 20,
   "id": "217b2cdc",
   "metadata": {},
   "outputs": [],
   "source": [
    "new = arr.reshape(60, 4)"
   ]
  },
  {
   "cell_type": "code",
   "execution_count": 21,
   "id": "7e923f0f",
   "metadata": {},
   "outputs": [],
   "source": [
    "data = new.tolist()"
   ]
  },
  {
   "cell_type": "markdown",
   "id": "5f19dfba",
   "metadata": {},
   "source": [
    "### Create the dataframe with 4 columns"
   ]
  },
  {
   "cell_type": "code",
   "execution_count": 33,
   "id": "0a5255bc",
   "metadata": {},
   "outputs": [],
   "source": [
    "df = pd.DataFrame(data, columns=[\"index\", \"name\", \"price\", \"product_url\"]).set_index(\"index\")"
   ]
  },
  {
   "cell_type": "code",
   "execution_count": 34,
   "id": "89eeb4f2",
   "metadata": {},
   "outputs": [
    {
     "data": {
      "text/html": [
       "<div>\n",
       "<style scoped>\n",
       "    .dataframe tbody tr th:only-of-type {\n",
       "        vertical-align: middle;\n",
       "    }\n",
       "\n",
       "    .dataframe tbody tr th {\n",
       "        vertical-align: top;\n",
       "    }\n",
       "\n",
       "    .dataframe thead th {\n",
       "        text-align: right;\n",
       "    }\n",
       "</style>\n",
       "<table border=\"1\" class=\"dataframe\">\n",
       "  <thead>\n",
       "    <tr style=\"text-align: right;\">\n",
       "      <th></th>\n",
       "      <th>name</th>\n",
       "      <th>price</th>\n",
       "      <th>product_url</th>\n",
       "    </tr>\n",
       "    <tr>\n",
       "      <th>index</th>\n",
       "      <th></th>\n",
       "      <th></th>\n",
       "      <th></th>\n",
       "    </tr>\n",
       "  </thead>\n",
       "  <tbody>\n",
       "    <tr>\n",
       "      <th>1</th>\n",
       "      <td>Men's Cosko Sports Running,Walking,Gym,Trainin...</td>\n",
       "      <td>₹498</td>\n",
       "      <td>https://www.amazon.com/sspa/click?ie=UTF8&amp;spc=...</td>\n",
       "    </tr>\n",
       "    <tr>\n",
       "      <th>2</th>\n",
       "      <td>Crystal-13 Sports Running,Walking &amp; Gym Shoes ...</td>\n",
       "      <td>₹1,199</td>\n",
       "      <td>https://www.amazon.com/sspa/click?ie=UTF8&amp;spc=...</td>\n",
       "    </tr>\n",
       "    <tr>\n",
       "      <th>3</th>\n",
       "      <td>Hattrick-21 Men's Sport Shoes | Ideal for Runn...</td>\n",
       "      <td>₹624</td>\n",
       "      <td>https://www.amazon.com/sspa/click?ie=UTF8&amp;spc=...</td>\n",
       "    </tr>\n",
       "    <tr>\n",
       "      <th>4</th>\n",
       "      <td>Men's Loire-z1 Running Shoes</td>\n",
       "      <td>₹699</td>\n",
       "      <td>https://www.amazon.com/sspa/click?ie=UTF8&amp;spc=...</td>\n",
       "    </tr>\n",
       "    <tr>\n",
       "      <th>5</th>\n",
       "      <td>Men's OXYFIT (N) Walking Shoe</td>\n",
       "      <td>₹599</td>\n",
       "      <td>https://www.amazon.com/Campus-OXYFIT-Walking-S...</td>\n",
       "    </tr>\n",
       "    <tr>\n",
       "      <th>6</th>\n",
       "      <td>Men's Adivat M Running Shoes</td>\n",
       "      <td>₹999</td>\n",
       "      <td>https://www.amazon.com/Adidas-Adivat-Running-C...</td>\n",
       "    </tr>\n",
       "    <tr>\n",
       "      <th>7</th>\n",
       "      <td>Men's Wonder-13 Sports Running Shoes</td>\n",
       "      <td>₹428</td>\n",
       "      <td>https://www.amazon.com/ASIAN-Wonder-Firozi-Spo...</td>\n",
       "    </tr>\n",
       "    <tr>\n",
       "      <th>8</th>\n",
       "      <td>Men's Cosko Sports Running,Walking,Gym,Trainin...</td>\n",
       "      <td>₹498</td>\n",
       "      <td>https://www.amazon.com/ASIAN-Mens-Cosco-Walkin...</td>\n",
       "    </tr>\n",
       "    <tr>\n",
       "      <th>9</th>\n",
       "      <td>Mens Gel-Quantum 180 VII Platform</td>\n",
       "      <td>₹10,999</td>\n",
       "      <td>https://www.amazon.com/ASICS-Gel-Quantum-Black...</td>\n",
       "    </tr>\n",
       "    <tr>\n",
       "      <th>10</th>\n",
       "      <td>Men's Clinch-X M Running Shoe</td>\n",
       "      <td>₹1,099</td>\n",
       "      <td>https://www.amazon.com/Adidas-Mens-Clinch-X-Ru...</td>\n",
       "    </tr>\n",
       "    <tr>\n",
       "      <th>11</th>\n",
       "      <td>Men's Crysta Running Shoes</td>\n",
       "      <td>₹688</td>\n",
       "      <td>https://www.amazon.com/Campus-Crysta-PRO-Runni...</td>\n",
       "    </tr>\n",
       "    <tr>\n",
       "      <th>12</th>\n",
       "      <td>Mens Fluidglow M Running Shoes</td>\n",
       "      <td>₹1,599</td>\n",
       "      <td>https://www.amazon.com/Adidas-Stone-Ftwwht-Aci...</td>\n",
       "    </tr>\n",
       "    <tr>\n",
       "      <th>13</th>\n",
       "      <td>Mens Statix M Sd Running Shoes</td>\n",
       "      <td>₹1,099</td>\n",
       "      <td>https://www.amazon.com/Adidas-Statix-Running-E...</td>\n",
       "    </tr>\n",
       "    <tr>\n",
       "      <th>14</th>\n",
       "      <td>Mens Sx0677g Running</td>\n",
       "      <td>₹940</td>\n",
       "      <td>https://www.amazon.com/Sparx-SM-677-Turkey-Spo...</td>\n",
       "    </tr>\n",
       "    <tr>\n",
       "      <th>15</th>\n",
       "      <td>Mens Bull Pro Sneaker</td>\n",
       "      <td>₹799</td>\n",
       "      <td>https://www.amazon.com/Campus-PRO-L-Gry-Runnin...</td>\n",
       "    </tr>\n",
       "    <tr>\n",
       "      <th>16</th>\n",
       "      <td>Men's Snatch V2 Sneakers</td>\n",
       "      <td>₹1,499</td>\n",
       "      <td>https://www.amazon.com/Puma-Snatch-Black-Puma-...</td>\n",
       "    </tr>\n",
       "    <tr>\n",
       "      <th>17</th>\n",
       "      <td>Men's INNOVA-04 Sports Running,Walking &amp; Gym S...</td>\n",
       "      <td>₹1,096</td>\n",
       "      <td>https://www.amazon.com/ASIAN-INNOVA-04-Running...</td>\n",
       "    </tr>\n",
       "    <tr>\n",
       "      <th>18</th>\n",
       "      <td>Men's First Running Shoes</td>\n",
       "      <td>₹1,249</td>\n",
       "      <td>https://www.amazon.com/Campus-First-L-Gry-Runn...</td>\n",
       "    </tr>\n",
       "    <tr>\n",
       "      <th>19</th>\n",
       "      <td>Delta-20 Sports Running,Walking &amp; Gym Shoes wi...</td>\n",
       "      <td>₹721</td>\n",
       "      <td>https://www.amazon.com/ASIAN-Delta-20-Running-...</td>\n",
       "    </tr>\n",
       "    <tr>\n",
       "      <th>20</th>\n",
       "      <td>Men's Prime-02 Sports Running Shoes Latest Sty...</td>\n",
       "      <td>₹520</td>\n",
       "      <td>https://www.amazon.com/ASIAN-Prime-02-Sneakers...</td>\n",
       "    </tr>\n",
       "    <tr>\n",
       "      <th>21</th>\n",
       "      <td>Mens R1014 795 Running Shoes</td>\n",
       "      <td>₹999</td>\n",
       "      <td>https://www.amazon.com/sspa/click?ie=UTF8&amp;spc=...</td>\n",
       "    </tr>\n",
       "    <tr>\n",
       "      <th>22</th>\n",
       "      <td>Exclusive Trendy, Casual, Sports, Running, Sho...</td>\n",
       "      <td>₹299</td>\n",
       "      <td>https://www.amazon.com/sspa/click?ie=UTF8&amp;spc=...</td>\n",
       "    </tr>\n",
       "    <tr>\n",
       "      <th>23</th>\n",
       "      <td>Men's Wind-01 Sports Walking Shoes Latest Styl...</td>\n",
       "      <td>₹547</td>\n",
       "      <td>https://www.amazon.com/sspa/click?ie=UTF8&amp;spc=...</td>\n",
       "    </tr>\n",
       "    <tr>\n",
       "      <th>24</th>\n",
       "      <td>Men's S-Cross Running Shoes</td>\n",
       "      <td>₹863</td>\n",
       "      <td>https://www.amazon.com/sspa/click?ie=UTF8&amp;spc=...</td>\n",
       "    </tr>\n",
       "    <tr>\n",
       "      <th>25</th>\n",
       "      <td>Men's 3392 Casual Shoes</td>\n",
       "      <td>₹959</td>\n",
       "      <td>https://www.amazon.com/Centrino-Mens-Chicku-Mo...</td>\n",
       "    </tr>\n",
       "    <tr>\n",
       "      <th>26</th>\n",
       "      <td>Sports and Running Shoes for Men BRD-564</td>\n",
       "      <td>₹289</td>\n",
       "      <td>https://www.amazon.com/Birdy-Sports-Running-Sh...</td>\n",
       "    </tr>\n",
       "    <tr>\n",
       "      <th>27</th>\n",
       "      <td>Men's Everest Running Shoes</td>\n",
       "      <td>₹974</td>\n",
       "      <td>https://www.amazon.com/Campus-Everest-D-Gry-Ru...</td>\n",
       "    </tr>\n",
       "    <tr>\n",
       "      <th>28</th>\n",
       "      <td>Men's Boss-Astute Uniform Dress Shoe</td>\n",
       "      <td>₹650</td>\n",
       "      <td>https://www.amazon.com/BATA-Boss-Astute-Unifor...</td>\n",
       "    </tr>\n",
       "    <tr>\n",
       "      <th>29</th>\n",
       "      <td>Men's Rider-01 Men Shoes for Running with Brea...</td>\n",
       "      <td>₹868</td>\n",
       "      <td>https://www.amazon.com/ASIAN-Rider-01-Breathab...</td>\n",
       "    </tr>\n",
       "    <tr>\n",
       "      <th>30</th>\n",
       "      <td>Comet Adults Unisex Black Nrgy Running Shoes</td>\n",
       "      <td>₹1,549</td>\n",
       "      <td>https://www.amazon.com/Puma-Mens-Lace-Sports-S...</td>\n",
       "    </tr>\n",
       "    <tr>\n",
       "      <th>31</th>\n",
       "      <td>Men Formal Shoe</td>\n",
       "      <td>₹699</td>\n",
       "      <td>https://www.amazon.com/Centrino-CHICKU-Uniform...</td>\n",
       "    </tr>\n",
       "    <tr>\n",
       "      <th>32</th>\n",
       "      <td>Men's Nw Tap Sneaker</td>\n",
       "      <td>₹1,099</td>\n",
       "      <td>https://www.amazon.com/BATA-Mens-Black-Sneaker...</td>\n",
       "    </tr>\n",
       "    <tr>\n",
       "      <th>33</th>\n",
       "      <td>Men's Missile-01 Running Shoes for Men I Sport...</td>\n",
       "      <td>₹898</td>\n",
       "      <td>https://www.amazon.com/ASIAN-Missile-01-Runnin...</td>\n",
       "    </tr>\n",
       "    <tr>\n",
       "      <th>34</th>\n",
       "      <td>Men's Rte314 Sneakers</td>\n",
       "      <td>₹1,119</td>\n",
       "      <td>https://www.amazon.com/Red-Tape-Black-Sneaker-...</td>\n",
       "    </tr>\n",
       "    <tr>\n",
       "      <th>35</th>\n",
       "      <td>Spark Running Shoes/Trainers for Men for Gymin...</td>\n",
       "      <td>₹1,259</td>\n",
       "      <td>https://www.amazon.com/Bacca-Trainers-Training...</td>\n",
       "    </tr>\n",
       "    <tr>\n",
       "      <th>36</th>\n",
       "      <td>Men's Skypee-33 Walking,Sports,Running,Gym Cas...</td>\n",
       "      <td>₹497</td>\n",
       "      <td>https://www.amazon.com/ASIAN-Skypee-33-Walking...</td>\n",
       "    </tr>\n",
       "    <tr>\n",
       "      <th>37</th>\n",
       "      <td>Men's North Plus Running Shoes</td>\n",
       "      <td>₹1,649</td>\n",
       "      <td>https://www.amazon.com/Campus-North-Running-Sh...</td>\n",
       "    </tr>\n",
       "    <tr>\n",
       "      <th>38</th>\n",
       "      <td>Mens 8620 Formal</td>\n",
       "      <td>₹549</td>\n",
       "      <td>https://www.amazon.com/Centrino-Mens-8620-Form...</td>\n",
       "    </tr>\n",
       "    <tr>\n",
       "      <th>39</th>\n",
       "      <td>Men's Stormex Training Shoe</td>\n",
       "      <td>₹3,359</td>\n",
       "      <td>https://www.amazon.com/Adidas-Black-Stone-Stor...</td>\n",
       "    </tr>\n",
       "    <tr>\n",
       "      <th>40</th>\n",
       "      <td>Unisex Adult Trigger Black White-Quarry Runnin...</td>\n",
       "      <td>₹1,499</td>\n",
       "      <td>https://www.amazon.com/Puma-19486601-PUMA-Trig...</td>\n",
       "    </tr>\n",
       "    <tr>\n",
       "      <th>41</th>\n",
       "      <td>Men's Court Rage M Shoes</td>\n",
       "      <td>₹2,070</td>\n",
       "      <td>https://www.amazon.com/Adidas-Court-Scarlet-Bl...</td>\n",
       "    </tr>\n",
       "    <tr>\n",
       "      <th>42</th>\n",
       "      <td>Men's Sport Sneakers Shoes</td>\n",
       "      <td>₹289</td>\n",
       "      <td>https://www.amazon.com/WORLD-WEAR-FOOTWEAR-Spo...</td>\n",
       "    </tr>\n",
       "    <tr>\n",
       "      <th>43</th>\n",
       "      <td>Men's (9462) White Sport Sneakers Shoes</td>\n",
       "      <td>₹338</td>\n",
       "      <td>https://www.amazon.com/WORLD-WEAR-FOOTWEAR-Whi...</td>\n",
       "    </tr>\n",
       "    <tr>\n",
       "      <th>44</th>\n",
       "      <td>Men's Moonwalk-01 Sports Running,Walking &amp; Gym...</td>\n",
       "      <td>₹497</td>\n",
       "      <td>https://www.amazon.com/ASIAN-Moonwalk-01-Sport...</td>\n",
       "    </tr>\n",
       "    <tr>\n",
       "      <th>45</th>\n",
       "      <td>Men Genuine Leather Formal Shoes</td>\n",
       "      <td>₹952</td>\n",
       "      <td>https://www.amazon.com/FENTACIA-Black-Genuine-...</td>\n",
       "    </tr>\n",
       "    <tr>\n",
       "      <th>46</th>\n",
       "      <td>Mens Gc 2336116 Sneaker</td>\n",
       "      <td>₹2,397</td>\n",
       "      <td>https://www.amazon.com/Woodland-Olive-Sneakers...</td>\n",
       "    </tr>\n",
       "    <tr>\n",
       "      <th>47</th>\n",
       "      <td>Men's Synthetic Sports,Running,Casual Loafer S...</td>\n",
       "      <td>₹449</td>\n",
       "      <td>https://www.amazon.com/ASIAN-Superfit-Black-Ru...</td>\n",
       "    </tr>\n",
       "    <tr>\n",
       "      <th>48</th>\n",
       "      <td>Mens Lqdcell Method Training Shoe</td>\n",
       "      <td>₹2,379</td>\n",
       "      <td>https://www.amazon.com/LQDCELL-Method-Running-...</td>\n",
       "    </tr>\n",
       "    <tr>\n",
       "      <th>49</th>\n",
       "      <td>Wind-03 Sports Running,Walking &amp; Gym Shoes wit...</td>\n",
       "      <td>₹547</td>\n",
       "      <td>https://www.amazon.com/ASIAN-Wind-03-Running-W...</td>\n",
       "    </tr>\n",
       "    <tr>\n",
       "      <th>50</th>\n",
       "      <td>Men's Sm-705 Running Shoe</td>\n",
       "      <td>₹1,119</td>\n",
       "      <td>https://www.amazon.com/Sparx-SM-705-Golden-Spo...</td>\n",
       "    </tr>\n",
       "    <tr>\n",
       "      <th>51</th>\n",
       "      <td>Men SM-661 Sports Shoes</td>\n",
       "      <td>₹1,181</td>\n",
       "      <td>https://www.amazon.com/Sparx-Black-Golden-Runn...</td>\n",
       "    </tr>\n",
       "    <tr>\n",
       "      <th>52</th>\n",
       "      <td>Men's Innova-15 Sports Running,Walking &amp; Gym S...</td>\n",
       "      <td>₹1,096</td>\n",
       "      <td>https://www.amazon.com/ASIAN-Innova-15-Running...</td>\n",
       "    </tr>\n",
       "    <tr>\n",
       "      <th>53</th>\n",
       "      <td>Men's Seize The Street M Running Shoes</td>\n",
       "      <td>₹2,276</td>\n",
       "      <td>https://www.amazon.com/Adidas-Impact-Orange-Wo...</td>\n",
       "    </tr>\n",
       "    <tr>\n",
       "      <th>54</th>\n",
       "      <td>Mens Glowrun Reflective M Running Shoes</td>\n",
       "      <td>₹1,999</td>\n",
       "      <td>https://www.amazon.com/Adidas-Glowrun-Reflecti...</td>\n",
       "    </tr>\n",
       "    <tr>\n",
       "      <th>55</th>\n",
       "      <td>Flying Knitt Premium Sports Shoes for Men</td>\n",
       "      <td>₹399</td>\n",
       "      <td>https://www.amazon.com/Birde-Men-Mesh-Blue-Sho...</td>\n",
       "    </tr>\n",
       "    <tr>\n",
       "      <th>56</th>\n",
       "      <td>Men's Rte328b Leather Chelsea Boot</td>\n",
       "      <td>₹1,894</td>\n",
       "      <td>https://www.amazon.com/Red-Tape-Leather-Chelse...</td>\n",
       "    </tr>\n",
       "    <tr>\n",
       "      <th>57</th>\n",
       "      <td>Sports Shoes for Men | Latest Stylish Sports S...</td>\n",
       "      <td>₹1,299</td>\n",
       "      <td>https://www.amazon.com/sspa/click?ie=UTF8&amp;spc=...</td>\n",
       "    </tr>\n",
       "    <tr>\n",
       "      <th>58</th>\n",
       "      <td>Mens Furo Running Shoes</td>\n",
       "      <td>₹999</td>\n",
       "      <td>https://www.amazon.com/sspa/click?ie=UTF8&amp;spc=...</td>\n",
       "    </tr>\n",
       "    <tr>\n",
       "      <th>59</th>\n",
       "      <td>Men's Mesh Lace-Ups Walking/Outdoor Sneakers C...</td>\n",
       "      <td>₹549</td>\n",
       "      <td>https://www.amazon.com/sspa/click?ie=UTF8&amp;spc=...</td>\n",
       "    </tr>\n",
       "    <tr>\n",
       "      <th>60</th>\n",
       "      <td>Mens R1014 C1336 Running Shoes</td>\n",
       "      <td>₹999</td>\n",
       "      <td>https://www.amazon.com/sspa/click?ie=UTF8&amp;spc=...</td>\n",
       "    </tr>\n",
       "  </tbody>\n",
       "</table>\n",
       "</div>"
      ],
      "text/plain": [
       "                                                    name    price  \\\n",
       "index                                                               \n",
       "1      Men's Cosko Sports Running,Walking,Gym,Trainin...     ₹498   \n",
       "2      Crystal-13 Sports Running,Walking & Gym Shoes ...   ₹1,199   \n",
       "3      Hattrick-21 Men's Sport Shoes | Ideal for Runn...     ₹624   \n",
       "4                           Men's Loire-z1 Running Shoes     ₹699   \n",
       "5                          Men's OXYFIT (N) Walking Shoe     ₹599   \n",
       "6                           Men's Adivat M Running Shoes     ₹999   \n",
       "7                   Men's Wonder-13 Sports Running Shoes     ₹428   \n",
       "8      Men's Cosko Sports Running,Walking,Gym,Trainin...     ₹498   \n",
       "9                      Mens Gel-Quantum 180 VII Platform  ₹10,999   \n",
       "10                         Men's Clinch-X M Running Shoe   ₹1,099   \n",
       "11                            Men's Crysta Running Shoes     ₹688   \n",
       "12                        Mens Fluidglow M Running Shoes   ₹1,599   \n",
       "13                        Mens Statix M Sd Running Shoes   ₹1,099   \n",
       "14                                  Mens Sx0677g Running     ₹940   \n",
       "15                                 Mens Bull Pro Sneaker     ₹799   \n",
       "16                              Men's Snatch V2 Sneakers   ₹1,499   \n",
       "17     Men's INNOVA-04 Sports Running,Walking & Gym S...   ₹1,096   \n",
       "18                             Men's First Running Shoes   ₹1,249   \n",
       "19     Delta-20 Sports Running,Walking & Gym Shoes wi...     ₹721   \n",
       "20     Men's Prime-02 Sports Running Shoes Latest Sty...     ₹520   \n",
       "21                          Mens R1014 795 Running Shoes     ₹999   \n",
       "22     Exclusive Trendy, Casual, Sports, Running, Sho...     ₹299   \n",
       "23     Men's Wind-01 Sports Walking Shoes Latest Styl...     ₹547   \n",
       "24                           Men's S-Cross Running Shoes     ₹863   \n",
       "25                               Men's 3392 Casual Shoes     ₹959   \n",
       "26              Sports and Running Shoes for Men BRD-564     ₹289   \n",
       "27                           Men's Everest Running Shoes     ₹974   \n",
       "28                  Men's Boss-Astute Uniform Dress Shoe     ₹650   \n",
       "29     Men's Rider-01 Men Shoes for Running with Brea...     ₹868   \n",
       "30          Comet Adults Unisex Black Nrgy Running Shoes   ₹1,549   \n",
       "31                                       Men Formal Shoe     ₹699   \n",
       "32                                  Men's Nw Tap Sneaker   ₹1,099   \n",
       "33     Men's Missile-01 Running Shoes for Men I Sport...     ₹898   \n",
       "34                                 Men's Rte314 Sneakers   ₹1,119   \n",
       "35     Spark Running Shoes/Trainers for Men for Gymin...   ₹1,259   \n",
       "36     Men's Skypee-33 Walking,Sports,Running,Gym Cas...     ₹497   \n",
       "37                        Men's North Plus Running Shoes   ₹1,649   \n",
       "38                                      Mens 8620 Formal     ₹549   \n",
       "39                           Men's Stormex Training Shoe   ₹3,359   \n",
       "40     Unisex Adult Trigger Black White-Quarry Runnin...   ₹1,499   \n",
       "41                              Men's Court Rage M Shoes   ₹2,070   \n",
       "42                            Men's Sport Sneakers Shoes     ₹289   \n",
       "43               Men's (9462) White Sport Sneakers Shoes     ₹338   \n",
       "44     Men's Moonwalk-01 Sports Running,Walking & Gym...     ₹497   \n",
       "45                      Men Genuine Leather Formal Shoes     ₹952   \n",
       "46                               Mens Gc 2336116 Sneaker   ₹2,397   \n",
       "47     Men's Synthetic Sports,Running,Casual Loafer S...     ₹449   \n",
       "48                     Mens Lqdcell Method Training Shoe   ₹2,379   \n",
       "49     Wind-03 Sports Running,Walking & Gym Shoes wit...     ₹547   \n",
       "50                             Men's Sm-705 Running Shoe   ₹1,119   \n",
       "51                               Men SM-661 Sports Shoes   ₹1,181   \n",
       "52     Men's Innova-15 Sports Running,Walking & Gym S...   ₹1,096   \n",
       "53                Men's Seize The Street M Running Shoes   ₹2,276   \n",
       "54               Mens Glowrun Reflective M Running Shoes   ₹1,999   \n",
       "55             Flying Knitt Premium Sports Shoes for Men     ₹399   \n",
       "56                    Men's Rte328b Leather Chelsea Boot   ₹1,894   \n",
       "57     Sports Shoes for Men | Latest Stylish Sports S...   ₹1,299   \n",
       "58                               Mens Furo Running Shoes     ₹999   \n",
       "59     Men's Mesh Lace-Ups Walking/Outdoor Sneakers C...     ₹549   \n",
       "60                        Mens R1014 C1336 Running Shoes     ₹999   \n",
       "\n",
       "                                             product_url  \n",
       "index                                                     \n",
       "1      https://www.amazon.com/sspa/click?ie=UTF8&spc=...  \n",
       "2      https://www.amazon.com/sspa/click?ie=UTF8&spc=...  \n",
       "3      https://www.amazon.com/sspa/click?ie=UTF8&spc=...  \n",
       "4      https://www.amazon.com/sspa/click?ie=UTF8&spc=...  \n",
       "5      https://www.amazon.com/Campus-OXYFIT-Walking-S...  \n",
       "6      https://www.amazon.com/Adidas-Adivat-Running-C...  \n",
       "7      https://www.amazon.com/ASIAN-Wonder-Firozi-Spo...  \n",
       "8      https://www.amazon.com/ASIAN-Mens-Cosco-Walkin...  \n",
       "9      https://www.amazon.com/ASICS-Gel-Quantum-Black...  \n",
       "10     https://www.amazon.com/Adidas-Mens-Clinch-X-Ru...  \n",
       "11     https://www.amazon.com/Campus-Crysta-PRO-Runni...  \n",
       "12     https://www.amazon.com/Adidas-Stone-Ftwwht-Aci...  \n",
       "13     https://www.amazon.com/Adidas-Statix-Running-E...  \n",
       "14     https://www.amazon.com/Sparx-SM-677-Turkey-Spo...  \n",
       "15     https://www.amazon.com/Campus-PRO-L-Gry-Runnin...  \n",
       "16     https://www.amazon.com/Puma-Snatch-Black-Puma-...  \n",
       "17     https://www.amazon.com/ASIAN-INNOVA-04-Running...  \n",
       "18     https://www.amazon.com/Campus-First-L-Gry-Runn...  \n",
       "19     https://www.amazon.com/ASIAN-Delta-20-Running-...  \n",
       "20     https://www.amazon.com/ASIAN-Prime-02-Sneakers...  \n",
       "21     https://www.amazon.com/sspa/click?ie=UTF8&spc=...  \n",
       "22     https://www.amazon.com/sspa/click?ie=UTF8&spc=...  \n",
       "23     https://www.amazon.com/sspa/click?ie=UTF8&spc=...  \n",
       "24     https://www.amazon.com/sspa/click?ie=UTF8&spc=...  \n",
       "25     https://www.amazon.com/Centrino-Mens-Chicku-Mo...  \n",
       "26     https://www.amazon.com/Birdy-Sports-Running-Sh...  \n",
       "27     https://www.amazon.com/Campus-Everest-D-Gry-Ru...  \n",
       "28     https://www.amazon.com/BATA-Boss-Astute-Unifor...  \n",
       "29     https://www.amazon.com/ASIAN-Rider-01-Breathab...  \n",
       "30     https://www.amazon.com/Puma-Mens-Lace-Sports-S...  \n",
       "31     https://www.amazon.com/Centrino-CHICKU-Uniform...  \n",
       "32     https://www.amazon.com/BATA-Mens-Black-Sneaker...  \n",
       "33     https://www.amazon.com/ASIAN-Missile-01-Runnin...  \n",
       "34     https://www.amazon.com/Red-Tape-Black-Sneaker-...  \n",
       "35     https://www.amazon.com/Bacca-Trainers-Training...  \n",
       "36     https://www.amazon.com/ASIAN-Skypee-33-Walking...  \n",
       "37     https://www.amazon.com/Campus-North-Running-Sh...  \n",
       "38     https://www.amazon.com/Centrino-Mens-8620-Form...  \n",
       "39     https://www.amazon.com/Adidas-Black-Stone-Stor...  \n",
       "40     https://www.amazon.com/Puma-19486601-PUMA-Trig...  \n",
       "41     https://www.amazon.com/Adidas-Court-Scarlet-Bl...  \n",
       "42     https://www.amazon.com/WORLD-WEAR-FOOTWEAR-Spo...  \n",
       "43     https://www.amazon.com/WORLD-WEAR-FOOTWEAR-Whi...  \n",
       "44     https://www.amazon.com/ASIAN-Moonwalk-01-Sport...  \n",
       "45     https://www.amazon.com/FENTACIA-Black-Genuine-...  \n",
       "46     https://www.amazon.com/Woodland-Olive-Sneakers...  \n",
       "47     https://www.amazon.com/ASIAN-Superfit-Black-Ru...  \n",
       "48     https://www.amazon.com/LQDCELL-Method-Running-...  \n",
       "49     https://www.amazon.com/ASIAN-Wind-03-Running-W...  \n",
       "50     https://www.amazon.com/Sparx-SM-705-Golden-Spo...  \n",
       "51     https://www.amazon.com/Sparx-Black-Golden-Runn...  \n",
       "52     https://www.amazon.com/ASIAN-Innova-15-Running...  \n",
       "53     https://www.amazon.com/Adidas-Impact-Orange-Wo...  \n",
       "54     https://www.amazon.com/Adidas-Glowrun-Reflecti...  \n",
       "55     https://www.amazon.com/Birde-Men-Mesh-Blue-Sho...  \n",
       "56     https://www.amazon.com/Red-Tape-Leather-Chelse...  \n",
       "57     https://www.amazon.com/sspa/click?ie=UTF8&spc=...  \n",
       "58     https://www.amazon.com/sspa/click?ie=UTF8&spc=...  \n",
       "59     https://www.amazon.com/sspa/click?ie=UTF8&spc=...  \n",
       "60     https://www.amazon.com/sspa/click?ie=UTF8&spc=...  "
      ]
     },
     "execution_count": 34,
     "metadata": {},
     "output_type": "execute_result"
    }
   ],
   "source": [
    "df"
   ]
  },
  {
   "cell_type": "markdown",
   "id": "cd3f3cbe",
   "metadata": {},
   "source": [
    "### Store the result into a CSV file "
   ]
  },
  {
   "cell_type": "code",
   "execution_count": 41,
   "id": "9fcca5c8",
   "metadata": {},
   "outputs": [],
   "source": [
    "df.to_csv(\"AMAZON_Shoes.csv\")"
   ]
  },
  {
   "cell_type": "markdown",
   "id": "cd722d15",
   "metadata": {},
   "source": [
    "### To close the driver"
   ]
  },
  {
   "cell_type": "code",
   "execution_count": 42,
   "id": "281f1c2f",
   "metadata": {},
   "outputs": [],
   "source": [
    "driver.close()"
   ]
  }
 ],
 "metadata": {
  "kernelspec": {
   "display_name": "Python 3 (ipykernel)",
   "language": "python",
   "name": "python3"
  },
  "language_info": {
   "codemirror_mode": {
    "name": "ipython",
    "version": 3
   },
   "file_extension": ".py",
   "mimetype": "text/x-python",
   "name": "python",
   "nbconvert_exporter": "python",
   "pygments_lexer": "ipython3",
   "version": "3.9.7"
  }
 },
 "nbformat": 4,
 "nbformat_minor": 5
}
